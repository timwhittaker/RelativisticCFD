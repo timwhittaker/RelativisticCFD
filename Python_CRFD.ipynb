{
 "cells": [
  {
   "cell_type": "markdown",
   "metadata": {},
   "source": [
    "# Solving Relativistic Fluid 2D\n",
    "\n",
    "### Introduction\n",
    "The goal of this notebook is to study turbulence from a perfect relativistic fluid. We consider the stress energy tensor for a perfect fluid in Minkowski space,\n",
    "\n",
    "\\begin{equation}\n",
    "T_{ab} = p\\eta_{ab} + (e+p)u_a u_b\n",
    "\\end{equation}\n",
    "\n",
    "The equations of motion for such fluid are,\n",
    "\n",
    "\\begin{equation}\n",
    "\\label{EOM}\n",
    "\\partial_a T^{ab} = 0. \\quad (1)\n",
    "\\end{equation}\n",
    "\n",
    "Here we focus on a conformal fluid, that is the stress energy tensor is traceless,\n",
    "\n",
    "$$T_a^a = 0 \\to e = -2p.$$\n",
    "\n",
    "To solve eq.1 numerically, we rewrite the EOM in conservative variables $U=(D,S^i)$ where,\n",
    "\n",
    "$$\\frac{D}{2} = T^{00} = \\frac{e}{2}\\left(-1+\\frac{3}{W^2}\\right)$$\n",
    "\n",
    "$$\\frac{S^i}{2} = T^{0i} = \\frac{3e}{2}\\frac{v^i}{W^2}$$\n",
    "\n",
    "Where we have the Lorentz factor $W = \\sqrt{1-v^iv_i}$. Now the EOM in conservative form,\n",
    "\n",
    "$$\\partial_t D + \\partial_i S^i = 0$$\n",
    "$$\\partial_t S^i + \\partial_j(e \\delta^{ij} + S^i v^j) = 0$$"
   ]
  },
  {
   "cell_type": "code",
   "execution_count": 1,
   "metadata": {},
   "outputs": [],
   "source": [
    "# Import packages\n",
    "import numpy as np\n",
    "import matplotlib.pyplot as plt\n",
    "from mpl_toolkits.mplot3d import Axes3D  "
   ]
  },
  {
   "cell_type": "markdown",
   "metadata": {},
   "source": [
    "## Parameters"
   ]
  },
  {
   "cell_type": "code",
   "execution_count": 2,
   "metadata": {},
   "outputs": [],
   "source": [
    "# Number of grid points\n",
    "Nx = 801\n",
    "Ny = 801\n",
    "Nt = 2\n",
    "\n",
    "# Discretisation parameters\n",
    "cfl = 1\n",
    "dx  = 10./(Nx)\n",
    "dy  = 10./(Ny)\n",
    "dt  = cfl*min(dx,dy)\n",
    "\n",
    "# Spacial linspace\n",
    "x = np.linspace(0,dx*Nx,Nx)\n",
    "y = np.linspace(0,dy*Ny,Ny)\n",
    "\n",
    "# physical parameters\n",
    "gamma = 1.5\n",
    "\n",
    "# Numerical parameters (floor)\n",
    "epsilon = 10e-5"
   ]
  },
  {
   "cell_type": "code",
   "execution_count": 3,
   "metadata": {},
   "outputs": [],
   "source": [
    "# Variables to store solutions\n",
    "v_x_old = np.zeros((Nx,Ny))\n",
    "v_x_new = np.zeros((Nx,Ny))\n",
    "\n",
    "v_y_old = np.zeros((Nx,Ny))\n",
    "v_y_new = np.zeros((Nx,Ny))\n",
    "\n",
    "rho_old = np.ones((Nx,Ny))\n",
    "rho_new = np.ones((Nx,Ny))\n",
    "\n",
    "D_old = np.zeros((Nx,Ny))\n",
    "D_new = np.zeros((Nx,Ny))\n",
    "\n",
    "s_x_old = np.zeros((Nx,Ny))\n",
    "s_x_new = np.zeros((Nx,Ny))\n",
    "\n",
    "s_y_old = np.zeros((Nx,Ny))\n",
    "s_y_new = np.zeros((Nx,Ny))"
   ]
  },
  {
   "cell_type": "markdown",
   "metadata": {},
   "source": [
    "## Variable conversion (C->P)\n",
    "\n",
    "To switch from conservative to primitive variable we first note that,\n",
    "\n",
    "$$S_iS^i/D^2 = 9(1-W^2)(3-W^2)^2$$\n",
    "\n",
    "Now let $\\Theta = S_iS^i/D^2$ and solving for $W^2$ we get,\n",
    "\n",
    "$$W^2 = \\frac{3}{2\\Theta} \\left(2 \\Theta - 3 + \\sqrt{9-8\\Theta}\\right)$$\n",
    "\n",
    "With this,\n",
    "\n",
    "$$e = \\frac{D}{-1+3W^{-2}}$$\n",
    "\n",
    "$$v^i = \\frac{W^2 S^i}{3e}$$"
   ]
  },
  {
   "cell_type": "code",
   "execution_count": 4,
   "metadata": {},
   "outputs": [],
   "source": [
    "def CtoP(D,Sx,Sy):\n",
    "    \n",
    "    Nx = S_x_old.shape[0]\n",
    "    Nx = S_x_old.shape[1]\n",
    "    prho = np.zeros((Nx,Ny))\n",
    "    v_x  = np.zeros((Nx,Ny))\n",
    "    v_y  = np.zeros((Nx,Ny))\n",
    "    \n",
    "    # Compute theta\n",
    "    theta = (np.multiply(Sx,Sx)+np.multiply(Sy,Sy))/np.multiply(D,D)\n",
    "    \n",
    "    # Compute W^2\n",
    "    W2 = (1.5/theta)*(2*theta-3.0+np.sqrt(9.0-8.0*theta))\n",
    "    \n",
    "    # Compute primitives\n",
    "    rho = D/(-1+3/W2)\n",
    "    v_x = (np.multiply(W2,Sx))/(3*rho)\n",
    "    v_y = (np.multiply(W2,Sy))/(3*rho)\n",
    "    \n",
    "    return prho, v_x, v_y\n",
    "\n",
    "def PtoC(rho,v_x,v_y,Nx,Ny):\n",
    "    \n",
    "    D = np.zeros((Nx,Ny))\n",
    "    S_x = np.zeros((Nx,Ny))\n",
    "    S_y = np.zeros((Nx,Ny))\n",
    "    \n",
    "    # Compute W^2\n",
    "    W2 = np.ones((Nx,Ny))-(np.multiply(v_x,v_x)+np.multiply(v_y,v_y))\n",
    "    \n",
    "    D   = np.multiply(rho,-np.ones((Nx,Ny)) + 3.0/W2)\n",
    "    S_x = 3.0*v_x/W2\n",
    "    S_y = 3.0*v_y/W2\n",
    "    \n",
    "    return D, S_x, S_y"
   ]
  },
  {
   "cell_type": "markdown",
   "metadata": {},
   "source": [
    "## Initial Data"
   ]
  },
  {
   "cell_type": "code",
   "execution_count": 5,
   "metadata": {},
   "outputs": [],
   "source": [
    "def gen_init(dx,dy,Nx,Ny,x,y,plot=False):\n",
    "    # initial data assumes square grid\n",
    "    v_x = np.zeros((Nx,Ny))\n",
    "    v_y = np.zeros((Nx,Ny))\n",
    "    \n",
    "    S_x = np.zeros((Nx,Ny))\n",
    "    S_y = np.zeros((Nx,Ny))\n",
    "    \n",
    "    D = np.zeros((Nx,Ny))\n",
    "    \n",
    "    # Density of 1 everywhere\n",
    "    rho = np.ones((Nx,Ny))\n",
    "    \n",
    "    W = np.zeros((Nx,Ny))\n",
    "    W2 = np.zeros((Nx,Ny))\n",
    "    \n",
    "    # Generate velocities\n",
    "    for i in range(Nx):\n",
    "        if(y[i]>3 and y[i]<7):\n",
    "            v_x[:,i] = 0.5*np.sin((20*np.pi)/(y[-1]*y[i]))*(y[i]-3.0)**2*((y[i]-7.0)**2)/16\n",
    "        else:\n",
    "            # Set to floor\n",
    "            v_x[:,i] = epsilon\n",
    "        if(x[i]>3 and x[i] < 7):\n",
    "            v_y[:,i] = 0.5*np.sin((20*np.pi)/(x[-1]*x[i]))*(x[i]-3.0)**2*((x[i]-7.0)**2)/16\n",
    "        else:\n",
    "            # Set to floor\n",
    "            v_y[:,i] = epsilon\n",
    "\n",
    "    # Compute conservative variables\n",
    "    D, S_x, S_y = PtoC(rho,v_x,v_y,Nx,Ny)\n",
    "\n",
    "    if plot:\n",
    "        fig = plt.figure(figsize=(15,15))\n",
    "        ax = fig.add_subplot(111, projection='3d')\n",
    "        X, Y = np.meshgrid(x, y)\n",
    "        \n",
    "        ax.plot_surface(X, Y, S_x)\n",
    "        \n",
    "        ax.set_xlabel('X Label')\n",
    "        ax.set_ylabel('Y Label')\n",
    "        ax.set_zlabel('S_x Label')\n",
    "        \n",
    "        plt.show()\n",
    "    \n",
    "    return v_x, v_y, rho, D, S_x, S_y"
   ]
  },
  {
   "cell_type": "code",
   "execution_count": 6,
   "metadata": {},
   "outputs": [],
   "source": [
    "# Generate initial data\n",
    "v_x_old, v_y_old, rho_old, D_old, S_x_old, S_y_old = gen_init(dx,dy,Nx,Ny,x,y)"
   ]
  },
  {
   "cell_type": "markdown",
   "metadata": {},
   "source": [
    "### Define finite difference fn"
   ]
  },
  {
   "cell_type": "code",
   "execution_count": 7,
   "metadata": {},
   "outputs": [],
   "source": [
    "# 2nd order Central difference for 1st degree derivative \n",
    "def dudx(u,dx):\n",
    "    \n",
    "    du = np.zeros((len(u),len(u)))\n",
    "    \n",
    "    # Assume periodic BC\n",
    "    du[0]  = 0.5*(u[2]-u[-1])/dx\n",
    "    du[-1] = 0.5*(u[2]-u[-1])/dx\n",
    "    \n",
    "    for i in range(1,len(u)-1):\n",
    "        du[i] = 0.5*(u[i+1]-u[i-1])/dx\n",
    "        \n",
    "    return du"
   ]
  },
  {
   "cell_type": "markdown",
   "metadata": {},
   "source": [
    "### Define fluxes"
   ]
  },
  {
   "cell_type": "code",
   "execution_count": 8,
   "metadata": {},
   "outputs": [],
   "source": [
    "def fluxes(rho,v_x,v_y,D,S_x,S_y):\n",
    "    \n",
    "    Fx_rho = S_x\n",
    "    Fy_rho = S_y\n",
    "    \n",
    "    Fx_Sx = rho+np.multiply(S_x,v_x)\n",
    "    Fy_Sx = np.multiply(S_x,v_y)\n",
    "    \n",
    "    Fx_Sy = np.multiply(S_y,v_x)\n",
    "    Fy_Sy = rho+np.multiply(S_y,v_y)\n",
    "    \n",
    "    return Fx_rho, Fy_rho, Fx_Sx, Fy_Sx, Fx_Sy, Fy_Sy\n",
    "\n",
    "def RHS(t, Z):\n",
    "    \n",
    "    D   = Z[0]\n",
    "    S_x = Z[1]\n",
    "    S_y = Z[2]\n",
    "    \n",
    "    rho, v_x, v_y =  CtoP(D,S_x,S_y)\n",
    "    \n",
    "    # Compute fluxes\n",
    "    Fx_rho, Fy_rho, Fx_Sx, Fy_Sx, Fx_Sy, Fy_Sy = fluxes(rho,v_x,v_y,D,S_x,S_y)\n",
    "        \n",
    "    # Compute derivatives\n",
    "    dFx_rho = dudx(Fx_rho,dx)\n",
    "    dFy_rho = dudx(Fy_rho,dx)\n",
    "    \n",
    "    dFx_Sx  = dudx(Fx_Sx,dx)\n",
    "    dFy_Sx  = dudx(Fy_Sx,dx)\n",
    "    \n",
    "    dFx_Sy  = dudx(Fx_Sy,dx)\n",
    "    dFy_Sy  = dudx(Fy_Sy,dx)\n",
    "    \n",
    "    dD   = -dFx_rho-dFy_rho\n",
    "    dS_x = -dFx_Sx-dFy_Sx\n",
    "    dS_y = -dFx_Sy-dFy_Sy\n",
    "    \n",
    "    print(dD.shape)\n",
    "    \n",
    "    return np.array([dD, dS_x, dS_y])"
   ]
  },
  {
   "cell_type": "markdown",
   "metadata": {},
   "source": [
    "### Define RK4"
   ]
  },
  {
   "cell_type": "code",
   "execution_count": 11,
   "metadata": {},
   "outputs": [],
   "source": [
    "def rk4_step(f, x, y, h):\n",
    "\n",
    "    k1 = h*f(x, y)\n",
    "    print(k1)\n",
    "    k2 = h*f(x + 0.5 * h, y + 0.5 * k1)\n",
    "    \n",
    "    k3 = h*f(x + 0.5 * h, y + 0.5 * k2)\n",
    "    k4 = h*f(x + h, y + k3)\n",
    "    \n",
    "    return y + (k1 + k2 + k2 + k3 + k3 + k4) / 6"
   ]
  },
  {
   "cell_type": "markdown",
   "metadata": {},
   "source": [
    "### Evolve"
   ]
  },
  {
   "cell_type": "code",
   "execution_count": 12,
   "metadata": {},
   "outputs": [
    {
     "name": "stdout",
     "output_type": "stream",
     "text": [
      "(801, 801)\n",
      "[[[-0. -0. -0. ... -0. -0. -0.]\n",
      "  [-0. -0. -0. ... -0. -0. -0.]\n",
      "  [-0. -0. -0. ... -0. -0. -0.]\n",
      "  ...\n",
      "  [-0. -0. -0. ... -0. -0. -0.]\n",
      "  [-0. -0. -0. ... -0. -0. -0.]\n",
      "  [-0. -0. -0. ... -0. -0. -0.]]\n",
      "\n",
      " [[-0. -0. -0. ... -0. -0. -0.]\n",
      "  [-0. -0. -0. ... -0. -0. -0.]\n",
      "  [-0. -0. -0. ... -0. -0. -0.]\n",
      "  ...\n",
      "  [-0. -0. -0. ... -0. -0. -0.]\n",
      "  [-0. -0. -0. ... -0. -0. -0.]\n",
      "  [-0. -0. -0. ... -0. -0. -0.]]\n",
      "\n",
      " [[-0. -0. -0. ... -0. -0. -0.]\n",
      "  [-0. -0. -0. ... -0. -0. -0.]\n",
      "  [-0. -0. -0. ... -0. -0. -0.]\n",
      "  ...\n",
      "  [-0. -0. -0. ... -0. -0. -0.]\n",
      "  [-0. -0. -0. ... -0. -0. -0.]\n",
      "  [-0. -0. -0. ... -0. -0. -0.]]]\n"
     ]
    },
    {
     "ename": "TypeError",
     "evalue": "can only concatenate list (not \"float\") to list",
     "output_type": "error",
     "traceback": [
      "\u001b[0;31m---------------------------------------------------------------------------\u001b[0m",
      "\u001b[0;31mTypeError\u001b[0m                                 Traceback (most recent call last)",
      "\u001b[0;32m<ipython-input-12-da6e048cb9c8>\u001b[0m in \u001b[0;36m<module>\u001b[0;34m\u001b[0m\n\u001b[1;32m      4\u001b[0m \u001b[0;34m\u001b[0m\u001b[0m\n\u001b[1;32m      5\u001b[0m \u001b[0;32mfor\u001b[0m \u001b[0mi\u001b[0m \u001b[0;32min\u001b[0m \u001b[0mrange\u001b[0m\u001b[0;34m(\u001b[0m\u001b[0;36m1\u001b[0m\u001b[0;34m,\u001b[0m\u001b[0mNt\u001b[0m\u001b[0;34m+\u001b[0m\u001b[0;36m1\u001b[0m\u001b[0;34m)\u001b[0m\u001b[0;34m:\u001b[0m\u001b[0;34m\u001b[0m\u001b[0;34m\u001b[0m\u001b[0m\n\u001b[0;32m----> 6\u001b[0;31m     \u001b[0mZ_new\u001b[0m \u001b[0;34m=\u001b[0m \u001b[0mrk4_step\u001b[0m\u001b[0;34m(\u001b[0m\u001b[0mRHS\u001b[0m\u001b[0;34m,\u001b[0m\u001b[0mt\u001b[0m\u001b[0;34m,\u001b[0m\u001b[0mZ_old\u001b[0m\u001b[0;34m,\u001b[0m\u001b[0mdt\u001b[0m\u001b[0;34m)\u001b[0m\u001b[0;34m\u001b[0m\u001b[0;34m\u001b[0m\u001b[0m\n\u001b[0m\u001b[1;32m      7\u001b[0m     \u001b[0mt\u001b[0m\u001b[0;34m.\u001b[0m\u001b[0mappend\u001b[0m\u001b[0;34m(\u001b[0m\u001b[0mt\u001b[0m\u001b[0;34m[\u001b[0m\u001b[0;36m0\u001b[0m\u001b[0;34m]\u001b[0m\u001b[0;34m+\u001b[0m\u001b[0mi\u001b[0m\u001b[0;34m*\u001b[0m\u001b[0mdt\u001b[0m\u001b[0;34m)\u001b[0m\u001b[0;34m\u001b[0m\u001b[0;34m\u001b[0m\u001b[0m\n",
      "\u001b[0;32m<ipython-input-11-c32825b92b14>\u001b[0m in \u001b[0;36mrk4_step\u001b[0;34m(f, x, y, h)\u001b[0m\n\u001b[1;32m      3\u001b[0m     \u001b[0mk1\u001b[0m \u001b[0;34m=\u001b[0m \u001b[0mh\u001b[0m\u001b[0;34m*\u001b[0m\u001b[0mf\u001b[0m\u001b[0;34m(\u001b[0m\u001b[0mx\u001b[0m\u001b[0;34m,\u001b[0m \u001b[0my\u001b[0m\u001b[0;34m)\u001b[0m\u001b[0;34m\u001b[0m\u001b[0;34m\u001b[0m\u001b[0m\n\u001b[1;32m      4\u001b[0m     \u001b[0mprint\u001b[0m\u001b[0;34m(\u001b[0m\u001b[0mk1\u001b[0m\u001b[0;34m)\u001b[0m\u001b[0;34m\u001b[0m\u001b[0;34m\u001b[0m\u001b[0m\n\u001b[0;32m----> 5\u001b[0;31m     \u001b[0mk2\u001b[0m \u001b[0;34m=\u001b[0m \u001b[0mh\u001b[0m\u001b[0;34m*\u001b[0m\u001b[0mf\u001b[0m\u001b[0;34m(\u001b[0m\u001b[0mx\u001b[0m \u001b[0;34m+\u001b[0m \u001b[0;36m0.5\u001b[0m \u001b[0;34m*\u001b[0m \u001b[0mh\u001b[0m\u001b[0;34m,\u001b[0m \u001b[0my\u001b[0m \u001b[0;34m+\u001b[0m \u001b[0;36m0.5\u001b[0m \u001b[0;34m*\u001b[0m \u001b[0mk1\u001b[0m\u001b[0;34m)\u001b[0m\u001b[0;34m\u001b[0m\u001b[0;34m\u001b[0m\u001b[0m\n\u001b[0m\u001b[1;32m      6\u001b[0m \u001b[0;34m\u001b[0m\u001b[0m\n\u001b[1;32m      7\u001b[0m     \u001b[0mk3\u001b[0m \u001b[0;34m=\u001b[0m \u001b[0mh\u001b[0m\u001b[0;34m*\u001b[0m\u001b[0mf\u001b[0m\u001b[0;34m(\u001b[0m\u001b[0mx\u001b[0m \u001b[0;34m+\u001b[0m \u001b[0;36m0.5\u001b[0m \u001b[0;34m*\u001b[0m \u001b[0mh\u001b[0m\u001b[0;34m,\u001b[0m \u001b[0my\u001b[0m \u001b[0;34m+\u001b[0m \u001b[0;36m0.5\u001b[0m \u001b[0;34m*\u001b[0m \u001b[0mk2\u001b[0m\u001b[0;34m)\u001b[0m\u001b[0;34m\u001b[0m\u001b[0;34m\u001b[0m\u001b[0m\n",
      "\u001b[0;31mTypeError\u001b[0m: can only concatenate list (not \"float\") to list"
     ]
    }
   ],
   "source": [
    "# Create Z vector\n",
    "Z_old = np.array([D_old,S_x_old,S_y_old])\n",
    "t = [0]\n",
    "\n",
    "for i in range(1,Nt+1):\n",
    "    Z_new = rk4_step(RHS,t,Z_old,dt)\n",
    "    t.append(t[0]+i*dt)"
   ]
  },
  {
   "cell_type": "code",
   "execution_count": null,
   "metadata": {},
   "outputs": [],
   "source": []
  },
  {
   "cell_type": "code",
   "execution_count": null,
   "metadata": {},
   "outputs": [],
   "source": []
  }
 ],
 "metadata": {
  "kernelspec": {
   "display_name": "Python 3",
   "language": "python",
   "name": "python3"
  },
  "language_info": {
   "codemirror_mode": {
    "name": "ipython",
    "version": 3
   },
   "file_extension": ".py",
   "mimetype": "text/x-python",
   "name": "python",
   "nbconvert_exporter": "python",
   "pygments_lexer": "ipython3",
   "version": "3.8.5"
  }
 },
 "nbformat": 4,
 "nbformat_minor": 4
}
